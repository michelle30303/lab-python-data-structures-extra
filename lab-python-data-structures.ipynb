{
 "cells": [
  {
   "cell_type": "markdown",
   "metadata": {},
   "source": [
    "# Lab | Data Structures "
   ]
  },
  {
   "cell_type": "markdown",
   "metadata": {},
   "source": [
    "## Exercise 1: Working with Lists"
   ]
  },
  {
   "cell_type": "markdown",
   "metadata": {},
   "source": [
    "Imagine you are building a program for a teacher who wants to track the progress of their students throughout the semester. The teacher wants to input the grades of each student one by one, and get a summary of their performance. There are in total 5 students. You are tasked with building the program that will allow the teacher to do this easily.\n",
    "\n",
    "The program will prompt the teacher to enter the grades of each student. Once the teacher has entered all the grades, the program will calculate the total sum of the grades and display it on the screen. Then, the program will create a new list by selecting only the grades of the first, third, and fifth students entered by the teacher, and sort them in ascending order.\n",
    "\n",
    "Finally, the program will print out the new list, along with its length and the number of occurrences of the score 5 in the list. This will give the teacher a good overview of the performance of the selected students, and help them identify any potential issues early on."
   ]
  },
  {
   "cell_type": "markdown",
   "metadata": {},
   "source": [
    "*Hint:*\n",
    "- You can use the input() function to ask the user to enter their information.\n",
    "- Look for list methods to perform the tasks. \n",
    "- Remember, it is possible to get a part of the sequence using:\n",
    "\n",
    "    ```python\n",
    "    sequence[x:y:z]\n",
    "    ```\n",
    "    where x, y, z are integers.\n",
    "\n",
    "    The above returns a new sequence with the following characteristics:\n",
    "\n",
    "    - A sequence with the same type as the original (a slice of a list is a list, a slice of a tuple is a tuple, and a slice of a string is a string).\n",
    "    - A sequence with elements from `sequence [x]` to `sequence [y-1]` (does not include a sequence [y]). By skipping `z` elements each time, it can be omitted if ` z = 1`.\n"
   ]
  },
  {
   "cell_type": "markdown",
   "metadata": {},
   "source": [
    "*Recommended External Resources:*\n",
    "- *[Python Lists](https://www.w3schools.com/python/python_lists.asp)*\n",
    "- *[Python List Methods](https://www.w3schools.com/python/python_ref_list.asp)*\n",
    "- *[Python Built-in Functions](https://docs.python.org/3/library/functions.html)*\n"
   ]
  },
  {
   "cell_type": "code",
   "execution_count": 1,
   "metadata": {},
   "outputs": [
    {
     "name": "stdout",
     "output_type": "stream",
     "text": [
      "Total sum of grades: 13\n",
      "Selected grades: [1, 3, 3]\n",
      "Length of selected grades: 3\n",
      "Number of occurrences of the score 5: 0\n"
     ]
    }
   ],
   "source": [
    "# Your code here\n",
    "\n",
    "# Initialize an empty list to store the grades\n",
    "grades = []\n",
    "\n",
    "# Prompt the teacher to input grades for 5 students\n",
    "for i in range(5):\n",
    "    grade = int(input(f\"Enter the grade for student {i+1}: \"))\n",
    "    grades.append(grade)\n",
    "\n",
    "# Calculate the total sum of the grades\n",
    "total_sum = sum(grades)\n",
    "print(f\"Total sum of grades: {total_sum}\")\n",
    "\n",
    "# Create a new list with grades of the 1st, 3rd, and 5th students and sort it\n",
    "selected_grades = [grades[0], grades[2], grades[4]]\n",
    "selected_grades.sort()\n",
    "\n",
    "# Print the new list, its length, and the count of the score 5\n",
    "print(f\"Selected grades: {selected_grades}\")\n",
    "print(f\"Length of selected grades: {len(selected_grades)}\")\n",
    "print(f\"Number of occurrences of the score 5: {selected_grades.count(5)}\")\n"
   ]
  },
  {
   "cell_type": "markdown",
   "metadata": {},
   "source": [
    "## Exercise 2: Tuples"
   ]
  },
  {
   "cell_type": "markdown",
   "metadata": {},
   "source": [
    "Imagine you're running a fruit stand and want to keep track of your inventory. Write a Python program that does the following:\n",
    "\n",
    "- Initializes a tuple with 5 different types of fruit.\n",
    "- Outputs the first and last elements of the tuple, so you can see the full range of fruits the store offers.\n",
    "- Replaces the second element of the tuple with a new fruit that the store has recently received, and prints the updated tuple so you can see the changes.\n",
    "- Concatenates a new tuple containing 2 additional fruits to the original tuple, so you can add them to the store inventory, and prints the resulting tuple to see the updated inventory.\n",
    "- Splits the resulting tuple into 2 tuples of 3 elements each (the first tuple contains the first 3 elements, and the second tuple contains the last 3 elements), so you can organize the inventory more effectively.\n",
    "- Combines the 2 tuples from the previous step with the original tuple into a new tuple, and prints the resulting tuple and its length, so you can see the final inventory after all the changes."
   ]
  },
  {
   "cell_type": "markdown",
   "metadata": {},
   "source": [
    "*Recommended External Resources: [Python Tuples Examples and Methods](https://www.w3schools.com/python/python_tuples.asp)*\n",
    "\n"
   ]
  },
  {
   "cell_type": "code",
   "execution_count": 2,
   "metadata": {},
   "outputs": [
    {
     "name": "stdout",
     "output_type": "stream",
     "text": [
      "First fruit: apple\n",
      "Last fruit: elderberry\n",
      "Updated tuple: ('apple', 'blueberry', 'cherry', 'date', 'elderberry')\n",
      "Concatenated tuple: ('apple', 'blueberry', 'cherry', 'date', 'elderberry', 'fig', 'grape')\n",
      "First split tuple: ('apple', 'blueberry', 'cherry')\n",
      "Second split tuple: ('date', 'elderberry', 'fig', 'grape')\n",
      "Combined tuple: ('apple', 'blueberry', 'cherry', 'date', 'elderberry', 'fig', 'grape', 'apple', 'banana', 'cherry', 'date', 'elderberry')\n",
      "Length of combined tuple: 12\n"
     ]
    }
   ],
   "source": [
    "# Your code here\n",
    "\n",
    "# Initialize a tuple with 5 different types of fruit\n",
    "fruits = ('apple', 'banana', 'cherry', 'date', 'elderberry')\n",
    "\n",
    "# Output the first and last elements of the tuple\n",
    "print(f\"First fruit: {fruits[0]}\")\n",
    "print(f\"Last fruit: {fruits[-1]}\")\n",
    "\n",
    "# Replace the second element of the tuple (since tuples are immutable, create a new tuple)\n",
    "new_fruits = (fruits[0], 'blueberry', fruits[2], fruits[3], fruits[4])\n",
    "print(f\"Updated tuple: {new_fruits}\")\n",
    "\n",
    "# Concatenate a new tuple containing 2 additional fruits\n",
    "additional_fruits = ('fig', 'grape')\n",
    "updated_fruits = new_fruits + additional_fruits\n",
    "print(f\"Concatenated tuple: {updated_fruits}\")\n",
    "\n",
    "# Split the resulting tuple into 2 tuples of 3 elements each\n",
    "tuple1 = updated_fruits[:3]\n",
    "tuple2 = updated_fruits[3:]\n",
    "print(f\"First split tuple: {tuple1}\")\n",
    "print(f\"Second split tuple: {tuple2}\")\n",
    "\n",
    "# Combine the 2 tuples from the previous step with the original tuple\n",
    "combined_tuple = tuple1 + tuple2 + fruits\n",
    "print(f\"Combined tuple: {combined_tuple}\")\n",
    "print(f\"Length of combined tuple: {len(combined_tuple)}\")\n"
   ]
  },
  {
   "cell_type": "markdown",
   "metadata": {},
   "source": [
    "## Exercise 3: Sets"
   ]
  },
  {
   "cell_type": "markdown",
   "metadata": {},
   "source": [
    "Imagine you are a data analyst working for a literature museum. Your manager has given you two poems to analyze, and she wants you to write a Python program to extract useful information from them.\n",
    "\n",
    "Your program should:\n",
    "\n",
    "- Create two sets, one for each poem, containing all unique words in both poems (ignoring case and punctuation).\n",
    "- Print the number of unique words in each set.\n",
    "- Identify and print the unique words present in the first poem but not in the second one.\n",
    "- Identify and print the unique words present in the second poem but not in the first one.\n",
    "- Identify and print the unique words present in both poems and print it in alphabetical order."
   ]
  },
  {
   "cell_type": "markdown",
   "metadata": {},
   "source": [
    "*Recommended External Resources:*\n",
    "- *[Python Sets](https://www.w3schools.com/python/python_sets.asp)* \n",
    "- *[Python Set Methods](https://www.w3schools.com/python/python_ref_set.asp)*\n",
    "- *[Python String Methods](https://www.w3schools.com/python/python_ref_string.asp)*\n"
   ]
  },
  {
   "cell_type": "code",
   "execution_count": null,
   "metadata": {},
   "outputs": [],
   "source": [
    "poem = \"\"\"Some say the world will end in fire,\n",
    "Some say in ice.\n",
    "From what I’ve tasted of desire\n",
    "I hold with those who favor fire.\n",
    "But if it had to perish twice,\n",
    "I think I know enough of hate\n",
    "To say that for destruction ice\n",
    "Is also great\n",
    "And would suffice.\"\"\"\n",
    "\n",
    "new_poem = \"\"\"Some say life is but a dream,\n",
    "Some say it's a test.\n",
    "From what I've seen and what I deem,\n",
    "I side with those who see it as a quest.\n",
    "\n",
    "But if it had to end today,\n",
    "I think I know enough of love,\n",
    "To say that though it fades away,\n",
    "It's still what we are made of.\"\"\""
   ]
  },
  {
   "cell_type": "code",
   "execution_count": 3,
   "metadata": {},
   "outputs": [
    {
     "name": "stdout",
     "output_type": "stream",
     "text": [
      "Number of unique words in poem 1: 41\n",
      "Number of unique words in poem 2: 42\n",
      "Words unique to poem 1: ['also', 'desire', 'destruction', 'favor', 'fire', 'for', 'great', 'hate', 'hold', 'ice', 'in', 'i’ve', 'perish', 'suffice', 'tasted', 'the', 'twice', 'will', 'world', 'would']\n",
      "Words unique to poem 2: ['a', 'are', 'as', 'away', 'deem', 'dream', 'fades', 'its', 'ive', 'life', 'love', 'made', 'quest', 'see', 'seen', 'side', 'still', 'test', 'though', 'today', 'we']\n",
      "Common words in both poems: ['and', 'but', 'end', 'enough', 'from', 'had', 'i', 'if', 'is', 'it', 'know', 'of', 'say', 'some', 'that', 'think', 'those', 'to', 'what', 'who', 'with']\n"
     ]
    }
   ],
   "source": [
    "# Your code here\n",
    "\n",
    "import string\n",
    "\n",
    "# The two poems\n",
    "poem = \"\"\"Some say the world will end in fire,\n",
    "Some say in ice.\n",
    "From what I’ve tasted of desire\n",
    "I hold with those who favor fire.\n",
    "But if it had to perish twice,\n",
    "I think I know enough of hate\n",
    "To say that for destruction ice\n",
    "Is also great\n",
    "And would suffice.\"\"\"\n",
    "\n",
    "new_poem = \"\"\"Some say life is but a dream,\n",
    "Some say it's a test.\n",
    "From what I've seen and what I deem,\n",
    "I side with those who see it as a quest.\n",
    "\n",
    "But if it had to end today,\n",
    "I think I know enough of love,\n",
    "To say that though it fades away,\n",
    "It's still what we are made of.\"\"\"\n",
    "\n",
    "# Function to clean and convert poem to set of unique words\n",
    "def poem_to_set(poem):\n",
    "    # Remove punctuation and convert to lowercase\n",
    "    cleaned_poem = poem.translate(str.maketrans('', '', string.punctuation)).lower()\n",
    "    # Split into words and convert to set\n",
    "    return set(cleaned_poem.split())\n",
    "\n",
    "# Create sets for both poems\n",
    "set_poem1 = poem_to_set(poem)\n",
    "set_poem2 = poem_to_set(new_poem)\n",
    "\n",
    "# Print the number of unique words in each set\n",
    "print(f\"Number of unique words in poem 1: {len(set_poem1)}\")\n",
    "print(f\"Number of unique words in poem 2: {len(set_poem2)}\")\n",
    "\n",
    "# Unique words in the first poem but not in the second\n",
    "unique_poem1 = set_poem1 - set_poem2\n",
    "print(f\"Words unique to poem 1: {sorted(unique_poem1)}\")\n",
    "\n",
    "# Unique words in the second poem but not in the first\n",
    "unique_poem2 = set_poem2 - set_poem1\n",
    "print(f\"Words unique to poem 2: {sorted(unique_poem2)}\")\n",
    "\n",
    "# Words present in both poems\n",
    "common_words = set_poem1 & set_poem2\n",
    "print(f\"Common words in both poems: {sorted(common_words)}\")\n"
   ]
  },
  {
   "cell_type": "markdown",
   "metadata": {},
   "source": [
    "## Exercise 4: Dictionaries"
   ]
  },
  {
   "cell_type": "markdown",
   "metadata": {},
   "source": [
    "Consider the following dictionary of students with their scores in different subjects. One of the students, Bob, has complained about his score in Philosophy and, after reviewing it, the teacher has decided to update his score to 100. Write a Python program that updates Bob's score in Philosophy to 100 in the dictionary."
   ]
  },
  {
   "cell_type": "markdown",
   "metadata": {},
   "source": [
    "*Recommended External Resources: [Python Dictionary Examples and Methods](https://www.w3schools.com/python/python_dictionaries.asp)*\n"
   ]
  },
  {
   "cell_type": "code",
   "execution_count": 51,
   "metadata": {},
   "outputs": [],
   "source": [
    "grades = {'Alice': {'Physics': 75, 'Math': 85, 'Chemistry': 60, 'Philosophy': 90}, 'Bob': {'Physics': 75, 'Math': 85, 'Chemistry': 60, 'Philosophy': 90}}"
   ]
  },
  {
   "cell_type": "code",
   "execution_count": 4,
   "metadata": {},
   "outputs": [
    {
     "name": "stdout",
     "output_type": "stream",
     "text": [
      "Updated grades: {'Alice': {'Physics': 75, 'Math': 85, 'Chemistry': 60, 'Philosophy': 90}, 'Bob': {'Physics': 75, 'Math': 85, 'Chemistry': 60, 'Philosophy': 100}}\n"
     ]
    }
   ],
   "source": [
    "# Your code here\n",
    "\n",
    "# The original dictionary\n",
    "grades = {\n",
    "    'Alice': {'Physics': 75, 'Math': 85, 'Chemistry': 60, 'Philosophy': 90},\n",
    "    'Bob': {'Physics': 75, 'Math': 85, 'Chemistry': 60, 'Philosophy': 90}\n",
    "}\n",
    "\n",
    "# Update Bob's Philosophy score to 100\n",
    "grades['Bob']['Philosophy'] = 100\n",
    "print(f\"Updated grades: {grades}\")\n"
   ]
  },
  {
   "cell_type": "markdown",
   "metadata": {},
   "source": [
    "## Bonus"
   ]
  },
  {
   "cell_type": "markdown",
   "metadata": {},
   "source": [
    "1. Below are the two lists. Write a Python program to convert them into a dictionary in a way that item from list1 is the key and item from list2 is the value."
   ]
  },
  {
   "cell_type": "markdown",
   "metadata": {},
   "source": [
    "*Hint: Use the zip() function. This function takes two or more iterables (like list, dict, string), aggregates them in a tuple, and returns it. Afterwards, you can use a function that turns a tuple into a dictionary.*"
   ]
  },
  {
   "cell_type": "markdown",
   "metadata": {},
   "source": [
    "*Recommended External Resources: [Python Zip Function](https://www.w3schools.com/python/ref_func_zip.asp)*\n"
   ]
  },
  {
   "cell_type": "code",
   "execution_count": 5,
   "metadata": {},
   "outputs": [
    {
     "name": "stdout",
     "output_type": "stream",
     "text": [
      "Dictionary from lists: {'Physics': 75, 'Math': 85, 'Chemistry': 60, 'Philosophy': 90}\n"
     ]
    }
   ],
   "source": [
    "keys = ['Physics', 'Math', 'Chemistry', 'Philosophy']\n",
    "values = [75, 85, 60,90]\n",
    "\n",
    "# Your code here\n",
    "\n",
    "keys = ['Physics', 'Math', 'Chemistry', 'Philosophy']\n",
    "values = [75, 85, 60, 90]\n",
    "\n",
    "# Convert the lists into a dictionary\n",
    "subject_scores = dict(zip(keys, values))\n",
    "print(f\"Dictionary from lists: {subject_scores}\")\n"
   ]
  },
  {
   "cell_type": "markdown",
   "metadata": {},
   "source": [
    "2. Get the subject with the minimum score from the previous dictionary."
   ]
  },
  {
   "cell_type": "markdown",
   "metadata": {},
   "source": [
    "*Hint: Use the built-in function min(). Read about the parameter key.*"
   ]
  },
  {
   "cell_type": "markdown",
   "metadata": {},
   "source": [
    "\n",
    "*Recommended External Resources:*\n",
    "- *[Python Min Function Official Documentation](https://docs.python.org/3.8/library/functions.html#min)*\n",
    "- *[How to use key function in max and min in Python](https://medium.com/analytics-vidhya/how-to-use-key-function-in-max-and-min-in-python-1fdbd661c59c)*"
   ]
  },
  {
   "cell_type": "code",
   "execution_count": 6,
   "metadata": {},
   "outputs": [
    {
     "name": "stdout",
     "output_type": "stream",
     "text": [
      "Subject with the minimum score: Chemistry\n"
     ]
    }
   ],
   "source": [
    "# Your code here\n",
    "\n",
    "# Use min with key parameter to find the subject with the minimum score\n",
    "min_subject = min(subject_scores, key=subject_scores.get)\n",
    "print(f\"Subject with the minimum score: {min_subject}\")\n"
   ]
  }
 ],
 "metadata": {
  "kernelspec": {
   "display_name": "Python 3 (ipykernel)",
   "language": "python",
   "name": "python3"
  },
  "language_info": {
   "codemirror_mode": {
    "name": "ipython",
    "version": 3
   },
   "file_extension": ".py",
   "mimetype": "text/x-python",
   "name": "python",
   "nbconvert_exporter": "python",
   "pygments_lexer": "ipython3",
   "version": "3.11.7"
  }
 },
 "nbformat": 4,
 "nbformat_minor": 4
}
